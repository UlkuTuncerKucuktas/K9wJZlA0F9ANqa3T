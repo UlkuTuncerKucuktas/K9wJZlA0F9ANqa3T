{
  "nbformat": 4,
  "nbformat_minor": 0,
  "metadata": {
    "colab": {
      "name": "Task 1.ipynb",
      "provenance": [],
      "mount_file_id": "1mQAtDJDRjKIrODpn-CShTnlH59D00-2T",
      "authorship_tag": "ABX9TyMLuYFxL/ThdcLXenMaHDRV",
      "include_colab_link": true
    },
    "kernelspec": {
      "name": "python3",
      "display_name": "Python 3"
    },
    "language_info": {
      "name": "python"
    }
  },
  "cells": [
    {
      "cell_type": "markdown",
      "metadata": {
        "id": "view-in-github",
        "colab_type": "text"
      },
      "source": [
        "<a href=\"https://colab.research.google.com/github/UlkuTuncerKucuktas/K9wJZlA0F9ANqa3T/blob/main/Task_1.ipynb\" target=\"_parent\"><img src=\"https://colab.research.google.com/assets/colab-badge.svg\" alt=\"Open In Colab\"/></a>"
      ]
    },
    {
      "cell_type": "markdown",
      "metadata": {
        "id": "_7MUopQ7Alj3"
      },
      "source": [
        "\n",
        "\n",
        "1.   Preparing Data\n",
        "2.   Corelation for Variables\n",
        "3.   Corelation for Events\n",
        "\n"
      ]
    },
    {
      "cell_type": "markdown",
      "metadata": {
        "id": "gJSBWMpFA1GD"
      },
      "source": [
        "**Preparing Data**"
      ]
    },
    {
      "cell_type": "code",
      "metadata": {
        "colab": {
          "base_uri": "https://localhost:8080/"
        },
        "id": "1KJiPHcmpppr",
        "outputId": "a10e5932-7220-4c68-d6d7-2f8c8298d5e9"
      },
      "source": [
        "!unzip /content/drive/MyDrive/transactions.csv.zip"
      ],
      "execution_count": 6,
      "outputs": [
        {
          "output_type": "stream",
          "name": "stdout",
          "text": [
            "Archive:  /content/drive/MyDrive/transactions.csv.zip\n",
            "  inflating: transactions.csv        \n",
            "  inflating: __MACOSX/._transactions.csv  \n"
          ]
        }
      ]
    },
    {
      "cell_type": "code",
      "metadata": {
        "id": "EcpPaitYqiwg"
      },
      "source": [
        "import numpy as np\n",
        "import pandas as pd\n",
        "\n",
        "live_campain = pd.read_csv(\"/content/drive/MyDrive/live_digital_campaigns.csv\")\n",
        "economic_var =  pd.read_csv(\"/content/drive/MyDrive/economic_variables.csv\")\n",
        "economic_cal = pd.read_csv(\"/content/drive/MyDrive/economic_calendar.csv\")\n",
        "transactions = pd.read_csv(\"/content/transactions.csv\")"
      ],
      "execution_count": 24,
      "outputs": []
    },
    {
      "cell_type": "code",
      "metadata": {
        "colab": {
          "base_uri": "https://localhost:8080/",
          "height": 206
        },
        "id": "ICBg7fSFq_IP",
        "outputId": "66945e11-f398-40f3-9f60-61a9052254c6"
      },
      "source": [
        "transactions.head()"
      ],
      "execution_count": 25,
      "outputs": [
        {
          "output_type": "execute_result",
          "data": {
            "text/html": [
              "<div>\n",
              "<style scoped>\n",
              "    .dataframe tbody tr th:only-of-type {\n",
              "        vertical-align: middle;\n",
              "    }\n",
              "\n",
              "    .dataframe tbody tr th {\n",
              "        vertical-align: top;\n",
              "    }\n",
              "\n",
              "    .dataframe thead th {\n",
              "        text-align: right;\n",
              "    }\n",
              "</style>\n",
              "<table border=\"1\" class=\"dataframe\">\n",
              "  <thead>\n",
              "    <tr style=\"text-align: right;\">\n",
              "      <th></th>\n",
              "      <th>pk</th>\n",
              "      <th>ga_transactionid</th>\n",
              "      <th>ga_datehour</th>\n",
              "      <th>ga_products</th>\n",
              "      <th>ga_channels</th>\n",
              "      <th>ga_itemquantity</th>\n",
              "    </tr>\n",
              "  </thead>\n",
              "  <tbody>\n",
              "    <tr>\n",
              "      <th>0</th>\n",
              "      <td>146288072</td>\n",
              "      <td>2_50414543</td>\n",
              "      <td>2020082900</td>\n",
              "      <td>Product D</td>\n",
              "      <td>Facebook</td>\n",
              "      <td>1</td>\n",
              "    </tr>\n",
              "    <tr>\n",
              "      <th>1</th>\n",
              "      <td>146288071</td>\n",
              "      <td>2_50414542</td>\n",
              "      <td>2020082900</td>\n",
              "      <td>Product D</td>\n",
              "      <td>Organic search</td>\n",
              "      <td>1</td>\n",
              "    </tr>\n",
              "    <tr>\n",
              "      <th>2</th>\n",
              "      <td>146287503</td>\n",
              "      <td>2_50413935</td>\n",
              "      <td>2020082900</td>\n",
              "      <td>Product D</td>\n",
              "      <td>Organic search</td>\n",
              "      <td>1</td>\n",
              "    </tr>\n",
              "    <tr>\n",
              "      <th>3</th>\n",
              "      <td>146287504</td>\n",
              "      <td>2_50413936</td>\n",
              "      <td>2020082900</td>\n",
              "      <td>Product D</td>\n",
              "      <td>Organic search</td>\n",
              "      <td>1</td>\n",
              "    </tr>\n",
              "    <tr>\n",
              "      <th>4</th>\n",
              "      <td>146296436</td>\n",
              "      <td>3_65496155</td>\n",
              "      <td>2020082900</td>\n",
              "      <td>Product E</td>\n",
              "      <td>Google Ads</td>\n",
              "      <td>1</td>\n",
              "    </tr>\n",
              "  </tbody>\n",
              "</table>\n",
              "</div>"
            ],
            "text/plain": [
              "          pk ga_transactionid  ...     ga_channels ga_itemquantity\n",
              "0  146288072       2_50414543  ...        Facebook               1\n",
              "1  146288071       2_50414542  ...  Organic search               1\n",
              "2  146287503       2_50413935  ...  Organic search               1\n",
              "3  146287504       2_50413936  ...  Organic search               1\n",
              "4  146296436       3_65496155  ...      Google Ads               1\n",
              "\n",
              "[5 rows x 6 columns]"
            ]
          },
          "metadata": {},
          "execution_count": 25
        }
      ]
    },
    {
      "cell_type": "code",
      "metadata": {
        "colab": {
          "base_uri": "https://localhost:8080/",
          "height": 206
        },
        "id": "13f-2p86sUi9",
        "outputId": "3470287f-dcd8-430d-d789-d9a712b7aa96"
      },
      "source": [
        "transactions[\"ga_datehour\"] = pd.to_datetime(transactions[\"ga_datehour\"], format='%Y%m%d%H')\n",
        "transactions = transactions.rename(columns={\"ga_datehour\":\"date\"})\n",
        "transactions['date'] = transactions['date'].apply(lambda x: x.date())\n",
        "transactions.head()"
      ],
      "execution_count": 26,
      "outputs": [
        {
          "output_type": "execute_result",
          "data": {
            "text/html": [
              "<div>\n",
              "<style scoped>\n",
              "    .dataframe tbody tr th:only-of-type {\n",
              "        vertical-align: middle;\n",
              "    }\n",
              "\n",
              "    .dataframe tbody tr th {\n",
              "        vertical-align: top;\n",
              "    }\n",
              "\n",
              "    .dataframe thead th {\n",
              "        text-align: right;\n",
              "    }\n",
              "</style>\n",
              "<table border=\"1\" class=\"dataframe\">\n",
              "  <thead>\n",
              "    <tr style=\"text-align: right;\">\n",
              "      <th></th>\n",
              "      <th>pk</th>\n",
              "      <th>ga_transactionid</th>\n",
              "      <th>date</th>\n",
              "      <th>ga_products</th>\n",
              "      <th>ga_channels</th>\n",
              "      <th>ga_itemquantity</th>\n",
              "    </tr>\n",
              "  </thead>\n",
              "  <tbody>\n",
              "    <tr>\n",
              "      <th>0</th>\n",
              "      <td>146288072</td>\n",
              "      <td>2_50414543</td>\n",
              "      <td>2020-08-29</td>\n",
              "      <td>Product D</td>\n",
              "      <td>Facebook</td>\n",
              "      <td>1</td>\n",
              "    </tr>\n",
              "    <tr>\n",
              "      <th>1</th>\n",
              "      <td>146288071</td>\n",
              "      <td>2_50414542</td>\n",
              "      <td>2020-08-29</td>\n",
              "      <td>Product D</td>\n",
              "      <td>Organic search</td>\n",
              "      <td>1</td>\n",
              "    </tr>\n",
              "    <tr>\n",
              "      <th>2</th>\n",
              "      <td>146287503</td>\n",
              "      <td>2_50413935</td>\n",
              "      <td>2020-08-29</td>\n",
              "      <td>Product D</td>\n",
              "      <td>Organic search</td>\n",
              "      <td>1</td>\n",
              "    </tr>\n",
              "    <tr>\n",
              "      <th>3</th>\n",
              "      <td>146287504</td>\n",
              "      <td>2_50413936</td>\n",
              "      <td>2020-08-29</td>\n",
              "      <td>Product D</td>\n",
              "      <td>Organic search</td>\n",
              "      <td>1</td>\n",
              "    </tr>\n",
              "    <tr>\n",
              "      <th>4</th>\n",
              "      <td>146296436</td>\n",
              "      <td>3_65496155</td>\n",
              "      <td>2020-08-29</td>\n",
              "      <td>Product E</td>\n",
              "      <td>Google Ads</td>\n",
              "      <td>1</td>\n",
              "    </tr>\n",
              "  </tbody>\n",
              "</table>\n",
              "</div>"
            ],
            "text/plain": [
              "          pk ga_transactionid  ...     ga_channels ga_itemquantity\n",
              "0  146288072       2_50414543  ...        Facebook               1\n",
              "1  146288071       2_50414542  ...  Organic search               1\n",
              "2  146287503       2_50413935  ...  Organic search               1\n",
              "3  146287504       2_50413936  ...  Organic search               1\n",
              "4  146296436       3_65496155  ...      Google Ads               1\n",
              "\n",
              "[5 rows x 6 columns]"
            ]
          },
          "metadata": {},
          "execution_count": 26
        }
      ]
    },
    {
      "cell_type": "code",
      "metadata": {
        "colab": {
          "base_uri": "https://localhost:8080/",
          "height": 206
        },
        "id": "BAE5zflauRlY",
        "outputId": "1d8b84da-9365-44d7-d00b-f45fcae7f642"
      },
      "source": [
        "transactions_for_economic = transactions[[\"date\",\"ga_itemquantity\"]].groupby(\"date\",as_index=False).sum()\n",
        "transactions_for_economic[\"date\"] = pd.to_datetime(transactions_for_economic[\"date\"])\n",
        "transactions_for_economic.head()"
      ],
      "execution_count": 43,
      "outputs": [
        {
          "output_type": "execute_result",
          "data": {
            "text/html": [
              "<div>\n",
              "<style scoped>\n",
              "    .dataframe tbody tr th:only-of-type {\n",
              "        vertical-align: middle;\n",
              "    }\n",
              "\n",
              "    .dataframe tbody tr th {\n",
              "        vertical-align: top;\n",
              "    }\n",
              "\n",
              "    .dataframe thead th {\n",
              "        text-align: right;\n",
              "    }\n",
              "</style>\n",
              "<table border=\"1\" class=\"dataframe\">\n",
              "  <thead>\n",
              "    <tr style=\"text-align: right;\">\n",
              "      <th></th>\n",
              "      <th>date</th>\n",
              "      <th>ga_itemquantity</th>\n",
              "    </tr>\n",
              "  </thead>\n",
              "  <tbody>\n",
              "    <tr>\n",
              "      <th>0</th>\n",
              "      <td>2020-08-29</td>\n",
              "      <td>33419</td>\n",
              "    </tr>\n",
              "    <tr>\n",
              "      <th>1</th>\n",
              "      <td>2020-08-30</td>\n",
              "      <td>37998</td>\n",
              "    </tr>\n",
              "    <tr>\n",
              "      <th>2</th>\n",
              "      <td>2020-08-31</td>\n",
              "      <td>50025</td>\n",
              "    </tr>\n",
              "    <tr>\n",
              "      <th>3</th>\n",
              "      <td>2020-09-01</td>\n",
              "      <td>66461</td>\n",
              "    </tr>\n",
              "    <tr>\n",
              "      <th>4</th>\n",
              "      <td>2020-09-02</td>\n",
              "      <td>54206</td>\n",
              "    </tr>\n",
              "  </tbody>\n",
              "</table>\n",
              "</div>"
            ],
            "text/plain": [
              "        date  ga_itemquantity\n",
              "0 2020-08-29            33419\n",
              "1 2020-08-30            37998\n",
              "2 2020-08-31            50025\n",
              "3 2020-09-01            66461\n",
              "4 2020-09-02            54206"
            ]
          },
          "metadata": {},
          "execution_count": 43
        }
      ]
    },
    {
      "cell_type": "code",
      "metadata": {
        "colab": {
          "base_uri": "https://localhost:8080/",
          "height": 423
        },
        "id": "q8XRT2nbxyru",
        "outputId": "03b2903f-cd89-48a6-dd4f-668bbffd8574"
      },
      "source": [
        "economic_var"
      ],
      "execution_count": 37,
      "outputs": [
        {
          "output_type": "execute_result",
          "data": {
            "text/html": [
              "<div>\n",
              "<style scoped>\n",
              "    .dataframe tbody tr th:only-of-type {\n",
              "        vertical-align: middle;\n",
              "    }\n",
              "\n",
              "    .dataframe tbody tr th {\n",
              "        vertical-align: top;\n",
              "    }\n",
              "\n",
              "    .dataframe thead th {\n",
              "        text-align: right;\n",
              "    }\n",
              "</style>\n",
              "<table border=\"1\" class=\"dataframe\">\n",
              "  <thead>\n",
              "    <tr style=\"text-align: right;\">\n",
              "      <th></th>\n",
              "      <th>date</th>\n",
              "      <th>bist100</th>\n",
              "      <th>usdtry</th>\n",
              "      <th>eurtry</th>\n",
              "      <th>eurusd</th>\n",
              "      <th>faiz</th>\n",
              "      <th>xau</th>\n",
              "      <th>brent</th>\n",
              "    </tr>\n",
              "  </thead>\n",
              "  <tbody>\n",
              "    <tr>\n",
              "      <th>0</th>\n",
              "      <td>2021-04-28</td>\n",
              "      <td>1388.59</td>\n",
              "      <td>8.2159</td>\n",
              "      <td>9.9379</td>\n",
              "      <td>1.2096</td>\n",
              "      <td>18.08</td>\n",
              "      <td>1773.86</td>\n",
              "      <td>67.33</td>\n",
              "    </tr>\n",
              "    <tr>\n",
              "      <th>1</th>\n",
              "      <td>2021-04-29</td>\n",
              "      <td>1398.85</td>\n",
              "      <td>8.1710</td>\n",
              "      <td>9.9166</td>\n",
              "      <td>1.2120</td>\n",
              "      <td>18.08</td>\n",
              "      <td>1780.19</td>\n",
              "      <td>67.54</td>\n",
              "    </tr>\n",
              "    <tr>\n",
              "      <th>2</th>\n",
              "      <td>2021-04-30</td>\n",
              "      <td>1401.52</td>\n",
              "      <td>8.2281</td>\n",
              "      <td>9.9741</td>\n",
              "      <td>1.2117</td>\n",
              "      <td>18.08</td>\n",
              "      <td>1769.11</td>\n",
              "      <td>68.08</td>\n",
              "    </tr>\n",
              "    <tr>\n",
              "      <th>3</th>\n",
              "      <td>2021-05-03</td>\n",
              "      <td>1421.15</td>\n",
              "      <td>8.2649</td>\n",
              "      <td>9.9694</td>\n",
              "      <td>1.2056</td>\n",
              "      <td>17.94</td>\n",
              "      <td>1793.31</td>\n",
              "      <td>67.45</td>\n",
              "    </tr>\n",
              "    <tr>\n",
              "      <th>4</th>\n",
              "      <td>2021-05-04</td>\n",
              "      <td>1421.15</td>\n",
              "      <td>8.2888</td>\n",
              "      <td>9.9721</td>\n",
              "      <td>1.2027</td>\n",
              "      <td>17.94</td>\n",
              "      <td>1785.86</td>\n",
              "      <td>67.43</td>\n",
              "    </tr>\n",
              "    <tr>\n",
              "      <th>...</th>\n",
              "      <td>...</td>\n",
              "      <td>...</td>\n",
              "      <td>...</td>\n",
              "      <td>...</td>\n",
              "      <td>...</td>\n",
              "      <td>...</td>\n",
              "      <td>...</td>\n",
              "      <td>...</td>\n",
              "    </tr>\n",
              "    <tr>\n",
              "      <th>619</th>\n",
              "      <td>2021-10-17</td>\n",
              "      <td>1409.56</td>\n",
              "      <td>9.2595</td>\n",
              "      <td>10.7585</td>\n",
              "      <td>1.1603</td>\n",
              "      <td>18.47</td>\n",
              "      <td>1767.62</td>\n",
              "      <td>84.86</td>\n",
              "    </tr>\n",
              "    <tr>\n",
              "      <th>620</th>\n",
              "      <td>2021-10-17</td>\n",
              "      <td>1409.56</td>\n",
              "      <td>9.2595</td>\n",
              "      <td>10.7585</td>\n",
              "      <td>1.1603</td>\n",
              "      <td>18.47</td>\n",
              "      <td>1767.62</td>\n",
              "      <td>84.86</td>\n",
              "    </tr>\n",
              "    <tr>\n",
              "      <th>621</th>\n",
              "      <td>2021-10-17</td>\n",
              "      <td>1409.56</td>\n",
              "      <td>9.2595</td>\n",
              "      <td>10.7585</td>\n",
              "      <td>1.1603</td>\n",
              "      <td>18.47</td>\n",
              "      <td>1767.62</td>\n",
              "      <td>84.86</td>\n",
              "    </tr>\n",
              "    <tr>\n",
              "      <th>622</th>\n",
              "      <td>2021-10-17</td>\n",
              "      <td>1409.56</td>\n",
              "      <td>9.2595</td>\n",
              "      <td>10.7585</td>\n",
              "      <td>1.1603</td>\n",
              "      <td>18.47</td>\n",
              "      <td>1767.62</td>\n",
              "      <td>84.86</td>\n",
              "    </tr>\n",
              "    <tr>\n",
              "      <th>623</th>\n",
              "      <td>2021-10-18</td>\n",
              "      <td>1409.56</td>\n",
              "      <td>9.2755</td>\n",
              "      <td>10.7475</td>\n",
              "      <td>1.1580</td>\n",
              "      <td>18.47</td>\n",
              "      <td>1768.62</td>\n",
              "      <td>85.67</td>\n",
              "    </tr>\n",
              "  </tbody>\n",
              "</table>\n",
              "<p>624 rows × 8 columns</p>\n",
              "</div>"
            ],
            "text/plain": [
              "           date  bist100  usdtry   eurtry  eurusd   faiz      xau  brent\n",
              "0    2021-04-28  1388.59  8.2159   9.9379  1.2096  18.08  1773.86  67.33\n",
              "1    2021-04-29  1398.85  8.1710   9.9166  1.2120  18.08  1780.19  67.54\n",
              "2    2021-04-30  1401.52  8.2281   9.9741  1.2117  18.08  1769.11  68.08\n",
              "3    2021-05-03  1421.15  8.2649   9.9694  1.2056  17.94  1793.31  67.45\n",
              "4    2021-05-04  1421.15  8.2888   9.9721  1.2027  17.94  1785.86  67.43\n",
              "..          ...      ...     ...      ...     ...    ...      ...    ...\n",
              "619  2021-10-17  1409.56  9.2595  10.7585  1.1603  18.47  1767.62  84.86\n",
              "620  2021-10-17  1409.56  9.2595  10.7585  1.1603  18.47  1767.62  84.86\n",
              "621  2021-10-17  1409.56  9.2595  10.7585  1.1603  18.47  1767.62  84.86\n",
              "622  2021-10-17  1409.56  9.2595  10.7585  1.1603  18.47  1767.62  84.86\n",
              "623  2021-10-18  1409.56  9.2755  10.7475  1.1580  18.47  1768.62  85.67\n",
              "\n",
              "[624 rows x 8 columns]"
            ]
          },
          "metadata": {},
          "execution_count": 37
        }
      ]
    },
    {
      "cell_type": "code",
      "metadata": {
        "colab": {
          "base_uri": "https://localhost:8080/",
          "height": 206
        },
        "id": "pFZgv7PIugEg",
        "outputId": "10328c2d-f561-4b79-af72-df0d5e31a0f5"
      },
      "source": [
        "economic_var = economic_var[[\"date\",\"bist100\",\"usdtry\",\"eurtry\",\"eurusd\",\n",
        "                             \"faiz\",\"xau\",\"brent\"]]\n",
        "economic_var['date'] = pd.to_datetime(economic_var['date'], format='%Y-%m-%d')\n",
        "economic_var.head()"
      ],
      "execution_count": 38,
      "outputs": [
        {
          "output_type": "execute_result",
          "data": {
            "text/html": [
              "<div>\n",
              "<style scoped>\n",
              "    .dataframe tbody tr th:only-of-type {\n",
              "        vertical-align: middle;\n",
              "    }\n",
              "\n",
              "    .dataframe tbody tr th {\n",
              "        vertical-align: top;\n",
              "    }\n",
              "\n",
              "    .dataframe thead th {\n",
              "        text-align: right;\n",
              "    }\n",
              "</style>\n",
              "<table border=\"1\" class=\"dataframe\">\n",
              "  <thead>\n",
              "    <tr style=\"text-align: right;\">\n",
              "      <th></th>\n",
              "      <th>date</th>\n",
              "      <th>bist100</th>\n",
              "      <th>usdtry</th>\n",
              "      <th>eurtry</th>\n",
              "      <th>eurusd</th>\n",
              "      <th>faiz</th>\n",
              "      <th>xau</th>\n",
              "      <th>brent</th>\n",
              "    </tr>\n",
              "  </thead>\n",
              "  <tbody>\n",
              "    <tr>\n",
              "      <th>0</th>\n",
              "      <td>2021-04-28</td>\n",
              "      <td>1388.59</td>\n",
              "      <td>8.2159</td>\n",
              "      <td>9.9379</td>\n",
              "      <td>1.2096</td>\n",
              "      <td>18.08</td>\n",
              "      <td>1773.86</td>\n",
              "      <td>67.33</td>\n",
              "    </tr>\n",
              "    <tr>\n",
              "      <th>1</th>\n",
              "      <td>2021-04-29</td>\n",
              "      <td>1398.85</td>\n",
              "      <td>8.1710</td>\n",
              "      <td>9.9166</td>\n",
              "      <td>1.2120</td>\n",
              "      <td>18.08</td>\n",
              "      <td>1780.19</td>\n",
              "      <td>67.54</td>\n",
              "    </tr>\n",
              "    <tr>\n",
              "      <th>2</th>\n",
              "      <td>2021-04-30</td>\n",
              "      <td>1401.52</td>\n",
              "      <td>8.2281</td>\n",
              "      <td>9.9741</td>\n",
              "      <td>1.2117</td>\n",
              "      <td>18.08</td>\n",
              "      <td>1769.11</td>\n",
              "      <td>68.08</td>\n",
              "    </tr>\n",
              "    <tr>\n",
              "      <th>3</th>\n",
              "      <td>2021-05-03</td>\n",
              "      <td>1421.15</td>\n",
              "      <td>8.2649</td>\n",
              "      <td>9.9694</td>\n",
              "      <td>1.2056</td>\n",
              "      <td>17.94</td>\n",
              "      <td>1793.31</td>\n",
              "      <td>67.45</td>\n",
              "    </tr>\n",
              "    <tr>\n",
              "      <th>4</th>\n",
              "      <td>2021-05-04</td>\n",
              "      <td>1421.15</td>\n",
              "      <td>8.2888</td>\n",
              "      <td>9.9721</td>\n",
              "      <td>1.2027</td>\n",
              "      <td>17.94</td>\n",
              "      <td>1785.86</td>\n",
              "      <td>67.43</td>\n",
              "    </tr>\n",
              "  </tbody>\n",
              "</table>\n",
              "</div>"
            ],
            "text/plain": [
              "        date  bist100  usdtry  eurtry  eurusd   faiz      xau  brent\n",
              "0 2021-04-28  1388.59  8.2159  9.9379  1.2096  18.08  1773.86  67.33\n",
              "1 2021-04-29  1398.85  8.1710  9.9166  1.2120  18.08  1780.19  67.54\n",
              "2 2021-04-30  1401.52  8.2281  9.9741  1.2117  18.08  1769.11  68.08\n",
              "3 2021-05-03  1421.15  8.2649  9.9694  1.2056  17.94  1793.31  67.45\n",
              "4 2021-05-04  1421.15  8.2888  9.9721  1.2027  17.94  1785.86  67.43"
            ]
          },
          "metadata": {},
          "execution_count": 38
        }
      ]
    },
    {
      "cell_type": "code",
      "metadata": {
        "colab": {
          "base_uri": "https://localhost:8080/",
          "height": 206
        },
        "id": "sU3vOgNGxP_d",
        "outputId": "b62e517e-c6d2-4e67-c800-011c23642db9"
      },
      "source": [
        "economic_var = economic_var.groupby(\"date\",as_index=False).mean()\n",
        "economic_var.head()"
      ],
      "execution_count": 40,
      "outputs": [
        {
          "output_type": "execute_result",
          "data": {
            "text/html": [
              "<div>\n",
              "<style scoped>\n",
              "    .dataframe tbody tr th:only-of-type {\n",
              "        vertical-align: middle;\n",
              "    }\n",
              "\n",
              "    .dataframe tbody tr th {\n",
              "        vertical-align: top;\n",
              "    }\n",
              "\n",
              "    .dataframe thead th {\n",
              "        text-align: right;\n",
              "    }\n",
              "</style>\n",
              "<table border=\"1\" class=\"dataframe\">\n",
              "  <thead>\n",
              "    <tr style=\"text-align: right;\">\n",
              "      <th></th>\n",
              "      <th>date</th>\n",
              "      <th>bist100</th>\n",
              "      <th>usdtry</th>\n",
              "      <th>eurtry</th>\n",
              "      <th>eurusd</th>\n",
              "      <th>faiz</th>\n",
              "      <th>xau</th>\n",
              "      <th>brent</th>\n",
              "    </tr>\n",
              "  </thead>\n",
              "  <tbody>\n",
              "    <tr>\n",
              "      <th>0</th>\n",
              "      <td>2021-04-28</td>\n",
              "      <td>1388.590000</td>\n",
              "      <td>8.2159</td>\n",
              "      <td>9.937900</td>\n",
              "      <td>1.2096</td>\n",
              "      <td>18.08</td>\n",
              "      <td>1773.860000</td>\n",
              "      <td>67.330000</td>\n",
              "    </tr>\n",
              "    <tr>\n",
              "      <th>1</th>\n",
              "      <td>2021-04-29</td>\n",
              "      <td>1398.850000</td>\n",
              "      <td>8.1710</td>\n",
              "      <td>9.916600</td>\n",
              "      <td>1.2120</td>\n",
              "      <td>18.08</td>\n",
              "      <td>1780.190000</td>\n",
              "      <td>67.540000</td>\n",
              "    </tr>\n",
              "    <tr>\n",
              "      <th>2</th>\n",
              "      <td>2021-04-30</td>\n",
              "      <td>1401.520000</td>\n",
              "      <td>8.2281</td>\n",
              "      <td>9.974100</td>\n",
              "      <td>1.2117</td>\n",
              "      <td>18.08</td>\n",
              "      <td>1769.110000</td>\n",
              "      <td>68.080000</td>\n",
              "    </tr>\n",
              "    <tr>\n",
              "      <th>3</th>\n",
              "      <td>2021-05-03</td>\n",
              "      <td>1421.150000</td>\n",
              "      <td>8.2649</td>\n",
              "      <td>9.969400</td>\n",
              "      <td>1.2056</td>\n",
              "      <td>17.94</td>\n",
              "      <td>1793.310000</td>\n",
              "      <td>67.450000</td>\n",
              "    </tr>\n",
              "    <tr>\n",
              "      <th>4</th>\n",
              "      <td>2021-05-04</td>\n",
              "      <td>1420.996667</td>\n",
              "      <td>8.3091</td>\n",
              "      <td>9.995333</td>\n",
              "      <td>1.2025</td>\n",
              "      <td>17.94</td>\n",
              "      <td>1787.523333</td>\n",
              "      <td>68.113333</td>\n",
              "    </tr>\n",
              "  </tbody>\n",
              "</table>\n",
              "</div>"
            ],
            "text/plain": [
              "        date      bist100  usdtry  ...   faiz          xau      brent\n",
              "0 2021-04-28  1388.590000  8.2159  ...  18.08  1773.860000  67.330000\n",
              "1 2021-04-29  1398.850000  8.1710  ...  18.08  1780.190000  67.540000\n",
              "2 2021-04-30  1401.520000  8.2281  ...  18.08  1769.110000  68.080000\n",
              "3 2021-05-03  1421.150000  8.2649  ...  17.94  1793.310000  67.450000\n",
              "4 2021-05-04  1420.996667  8.3091  ...  17.94  1787.523333  68.113333\n",
              "\n",
              "[5 rows x 8 columns]"
            ]
          },
          "metadata": {},
          "execution_count": 40
        }
      ]
    },
    {
      "cell_type": "code",
      "metadata": {
        "colab": {
          "base_uri": "https://localhost:8080/",
          "height": 293
        },
        "id": "6Lslk8_syysW",
        "outputId": "3f01afa3-3b87-4b44-ac19-50ba0d8ed0cb"
      },
      "source": [
        "mergedf = economic_var.merge(transactions_for_economic, how='inner', on='date')\n",
        "mergedf.head()"
      ],
      "execution_count": 44,
      "outputs": [
        {
          "output_type": "execute_result",
          "data": {
            "text/html": [
              "<div>\n",
              "<style scoped>\n",
              "    .dataframe tbody tr th:only-of-type {\n",
              "        vertical-align: middle;\n",
              "    }\n",
              "\n",
              "    .dataframe tbody tr th {\n",
              "        vertical-align: top;\n",
              "    }\n",
              "\n",
              "    .dataframe thead th {\n",
              "        text-align: right;\n",
              "    }\n",
              "</style>\n",
              "<table border=\"1\" class=\"dataframe\">\n",
              "  <thead>\n",
              "    <tr style=\"text-align: right;\">\n",
              "      <th></th>\n",
              "      <th>date</th>\n",
              "      <th>bist100</th>\n",
              "      <th>usdtry</th>\n",
              "      <th>eurtry</th>\n",
              "      <th>eurusd</th>\n",
              "      <th>faiz</th>\n",
              "      <th>xau</th>\n",
              "      <th>brent</th>\n",
              "      <th>ga_itemquantity</th>\n",
              "    </tr>\n",
              "  </thead>\n",
              "  <tbody>\n",
              "    <tr>\n",
              "      <th>0</th>\n",
              "      <td>2021-04-28</td>\n",
              "      <td>1388.590000</td>\n",
              "      <td>8.2159</td>\n",
              "      <td>9.937900</td>\n",
              "      <td>1.2096</td>\n",
              "      <td>18.08</td>\n",
              "      <td>1773.860000</td>\n",
              "      <td>67.330000</td>\n",
              "      <td>49892</td>\n",
              "    </tr>\n",
              "    <tr>\n",
              "      <th>1</th>\n",
              "      <td>2021-04-29</td>\n",
              "      <td>1398.850000</td>\n",
              "      <td>8.1710</td>\n",
              "      <td>9.916600</td>\n",
              "      <td>1.2120</td>\n",
              "      <td>18.08</td>\n",
              "      <td>1780.190000</td>\n",
              "      <td>67.540000</td>\n",
              "      <td>36850</td>\n",
              "    </tr>\n",
              "    <tr>\n",
              "      <th>2</th>\n",
              "      <td>2021-04-30</td>\n",
              "      <td>1401.520000</td>\n",
              "      <td>8.2281</td>\n",
              "      <td>9.974100</td>\n",
              "      <td>1.2117</td>\n",
              "      <td>18.08</td>\n",
              "      <td>1769.110000</td>\n",
              "      <td>68.080000</td>\n",
              "      <td>46782</td>\n",
              "    </tr>\n",
              "    <tr>\n",
              "      <th>3</th>\n",
              "      <td>2021-05-03</td>\n",
              "      <td>1421.150000</td>\n",
              "      <td>8.2649</td>\n",
              "      <td>9.969400</td>\n",
              "      <td>1.2056</td>\n",
              "      <td>17.94</td>\n",
              "      <td>1793.310000</td>\n",
              "      <td>67.450000</td>\n",
              "      <td>63195</td>\n",
              "    </tr>\n",
              "    <tr>\n",
              "      <th>4</th>\n",
              "      <td>2021-05-04</td>\n",
              "      <td>1420.996667</td>\n",
              "      <td>8.3091</td>\n",
              "      <td>9.995333</td>\n",
              "      <td>1.2025</td>\n",
              "      <td>17.94</td>\n",
              "      <td>1787.523333</td>\n",
              "      <td>68.113333</td>\n",
              "      <td>65299</td>\n",
              "    </tr>\n",
              "  </tbody>\n",
              "</table>\n",
              "</div>"
            ],
            "text/plain": [
              "        date      bist100  usdtry  ...          xau      brent  ga_itemquantity\n",
              "0 2021-04-28  1388.590000  8.2159  ...  1773.860000  67.330000            49892\n",
              "1 2021-04-29  1398.850000  8.1710  ...  1780.190000  67.540000            36850\n",
              "2 2021-04-30  1401.520000  8.2281  ...  1769.110000  68.080000            46782\n",
              "3 2021-05-03  1421.150000  8.2649  ...  1793.310000  67.450000            63195\n",
              "4 2021-05-04  1420.996667  8.3091  ...  1787.523333  68.113333            65299\n",
              "\n",
              "[5 rows x 9 columns]"
            ]
          },
          "metadata": {},
          "execution_count": 44
        }
      ]
    },
    {
      "cell_type": "markdown",
      "metadata": {
        "id": "GdzGKNVzA-t1"
      },
      "source": [
        "**Corelation for Variables**"
      ]
    },
    {
      "cell_type": "code",
      "metadata": {
        "colab": {
          "base_uri": "https://localhost:8080/",
          "height": 1000
        },
        "id": "9O9wjNmT2AOP",
        "outputId": "0cc7f6cc-e741-4e9f-aa6a-c8939195cfc0"
      },
      "source": [
        "import matplotlib.pyplot as plt\n",
        "import seaborn as sns\n",
        "%matplotlib inline\n",
        "\n",
        "cols_plot = [\"bist100\",\"usdtry\",\"eurtry\",\"eurusd\",\"faiz\",\"xau\",\"brent\",\"ga_itemquantity\"]\n",
        "axes = mergedf[cols_plot].plot(marker='.', alpha=0.5, linestyle='None', figsize=(11,40),subplots=True)\n",
        "for ax in axes:\n",
        "    ax.set_ylabel('Value')\n",
        "\n",
        "\n",
        "\n"
      ],
      "execution_count": 50,
      "outputs": [
        {
          "output_type": "display_data",
          "data": {
            "image/png": "[encoded data removed]",
            "text/plain": [
              "<Figure size 792x2880 with 8 Axes>"
            ]
          },
          "metadata": {
            "needs_background": "light"
          }
        }
      ]
    },
    {
      "cell_type": "code",
      "metadata": {
        "colab": {
          "base_uri": "https://localhost:8080/",
          "height": 320
        },
        "id": "GwA6cDlvzyU0",
        "outputId": "08748f75-57b0-4e4b-dd65-8fc9b14f5278"
      },
      "source": [
        "mergedf.corr()"
      ],
      "execution_count": 45,
      "outputs": [
        {
          "output_type": "execute_result",
          "data": {
            "text/html": [
              "<div>\n",
              "<style scoped>\n",
              "    .dataframe tbody tr th:only-of-type {\n",
              "        vertical-align: middle;\n",
              "    }\n",
              "\n",
              "    .dataframe tbody tr th {\n",
              "        vertical-align: top;\n",
              "    }\n",
              "\n",
              "    .dataframe thead th {\n",
              "        text-align: right;\n",
              "    }\n",
              "</style>\n",
              "<table border=\"1\" class=\"dataframe\">\n",
              "  <thead>\n",
              "    <tr style=\"text-align: right;\">\n",
              "      <th></th>\n",
              "      <th>bist100</th>\n",
              "      <th>usdtry</th>\n",
              "      <th>eurtry</th>\n",
              "      <th>eurusd</th>\n",
              "      <th>faiz</th>\n",
              "      <th>xau</th>\n",
              "      <th>brent</th>\n",
              "      <th>ga_itemquantity</th>\n",
              "    </tr>\n",
              "  </thead>\n",
              "  <tbody>\n",
              "    <tr>\n",
              "      <th>bist100</th>\n",
              "      <td>1.000000</td>\n",
              "      <td>-0.431980</td>\n",
              "      <td>-0.253688</td>\n",
              "      <td>0.369688</td>\n",
              "      <td>-0.031307</td>\n",
              "      <td>0.352609</td>\n",
              "      <td>-0.411581</td>\n",
              "      <td>-0.174439</td>\n",
              "    </tr>\n",
              "    <tr>\n",
              "      <th>usdtry</th>\n",
              "      <td>-0.431980</td>\n",
              "      <td>1.000000</td>\n",
              "      <td>0.765877</td>\n",
              "      <td>-0.612655</td>\n",
              "      <td>-0.001206</td>\n",
              "      <td>-0.445670</td>\n",
              "      <td>0.838320</td>\n",
              "      <td>-0.085861</td>\n",
              "    </tr>\n",
              "    <tr>\n",
              "      <th>eurtry</th>\n",
              "      <td>-0.253688</td>\n",
              "      <td>0.765877</td>\n",
              "      <td>1.000000</td>\n",
              "      <td>0.038082</td>\n",
              "      <td>0.078364</td>\n",
              "      <td>0.112850</td>\n",
              "      <td>0.442385</td>\n",
              "      <td>-0.076197</td>\n",
              "    </tr>\n",
              "    <tr>\n",
              "      <th>eurusd</th>\n",
              "      <td>0.369688</td>\n",
              "      <td>-0.612655</td>\n",
              "      <td>0.038082</td>\n",
              "      <td>1.000000</td>\n",
              "      <td>0.088523</td>\n",
              "      <td>0.828672</td>\n",
              "      <td>-0.758684</td>\n",
              "      <td>0.029705</td>\n",
              "    </tr>\n",
              "    <tr>\n",
              "      <th>faiz</th>\n",
              "      <td>-0.031307</td>\n",
              "      <td>-0.001206</td>\n",
              "      <td>0.078364</td>\n",
              "      <td>0.088523</td>\n",
              "      <td>1.000000</td>\n",
              "      <td>0.282386</td>\n",
              "      <td>-0.138723</td>\n",
              "      <td>-0.124131</td>\n",
              "    </tr>\n",
              "    <tr>\n",
              "      <th>xau</th>\n",
              "      <td>0.352609</td>\n",
              "      <td>-0.445670</td>\n",
              "      <td>0.112850</td>\n",
              "      <td>0.828672</td>\n",
              "      <td>0.282386</td>\n",
              "      <td>1.000000</td>\n",
              "      <td>-0.542710</td>\n",
              "      <td>-0.019606</td>\n",
              "    </tr>\n",
              "    <tr>\n",
              "      <th>brent</th>\n",
              "      <td>-0.411581</td>\n",
              "      <td>0.838320</td>\n",
              "      <td>0.442385</td>\n",
              "      <td>-0.758684</td>\n",
              "      <td>-0.138723</td>\n",
              "      <td>-0.542710</td>\n",
              "      <td>1.000000</td>\n",
              "      <td>-0.026138</td>\n",
              "    </tr>\n",
              "    <tr>\n",
              "      <th>ga_itemquantity</th>\n",
              "      <td>-0.174439</td>\n",
              "      <td>-0.085861</td>\n",
              "      <td>-0.076197</td>\n",
              "      <td>0.029705</td>\n",
              "      <td>-0.124131</td>\n",
              "      <td>-0.019606</td>\n",
              "      <td>-0.026138</td>\n",
              "      <td>1.000000</td>\n",
              "    </tr>\n",
              "  </tbody>\n",
              "</table>\n",
              "</div>"
            ],
            "text/plain": [
              "                  bist100    usdtry  ...     brent  ga_itemquantity\n",
              "bist100          1.000000 -0.431980  ... -0.411581        -0.174439\n",
              "usdtry          -0.431980  1.000000  ...  0.838320        -0.085861\n",
              "eurtry          -0.253688  0.765877  ...  0.442385        -0.076197\n",
              "eurusd           0.369688 -0.612655  ... -0.758684         0.029705\n",
              "faiz            -0.031307 -0.001206  ... -0.138723        -0.124131\n",
              "xau              0.352609 -0.445670  ... -0.542710        -0.019606\n",
              "brent           -0.411581  0.838320  ...  1.000000        -0.026138\n",
              "ga_itemquantity -0.174439 -0.085861  ... -0.026138         1.000000\n",
              "\n",
              "[8 rows x 8 columns]"
            ]
          },
          "metadata": {},
          "execution_count": 45
        }
      ]
    },
    {
      "cell_type": "code",
      "metadata": {
        "colab": {
          "base_uri": "https://localhost:8080/",
          "height": 359
        },
        "id": "oiOV6AjO1_Fd",
        "outputId": "b3f70475-5fbd-4936-b688-5043e15aa8e6"
      },
      "source": [
        "sns.heatmap(mergedf.corr(), \n",
        "        xticklabels=mergedf.columns[1:],\n",
        "        yticklabels=mergedf.columns[1:])"
      ],
      "execution_count": 52,
      "outputs": [
        {
          "output_type": "execute_result",
          "data": {
            "text/plain": [
              "<matplotlib.axes._subplots.AxesSubplot at 0x7fb02ea8f210>"
            ]
          },
          "metadata": {},
          "execution_count": 52
        },
        {
          "output_type": "display_data",
          "data": {
            "image/png": "[encoded data removed]",
            "text/plain": [
              "<Figure size 432x288 with 2 Axes>"
            ]
          },
          "metadata": {
            "needs_background": "light"
          }
        }
      ]
    },
    {
      "cell_type": "markdown",
      "metadata": {
        "id": "d6hiNPJkBE1G"
      },
      "source": [
        "**Preparing Data**"
      ]
    },
    {
      "cell_type": "code",
      "metadata": {
        "colab": {
          "base_uri": "https://localhost:8080/",
          "height": 293
        },
        "id": "5E7ZKnVl6-s0",
        "outputId": "17eca225-2ca9-4957-d1a1-2a25ceb8c10b"
      },
      "source": [
        "economic_cal.head()"
      ],
      "execution_count": 54,
      "outputs": [
        {
          "output_type": "execute_result",
          "data": {
            "text/html": [
              "<div>\n",
              "<style scoped>\n",
              "    .dataframe tbody tr th:only-of-type {\n",
              "        vertical-align: middle;\n",
              "    }\n",
              "\n",
              "    .dataframe tbody tr th {\n",
              "        vertical-align: top;\n",
              "    }\n",
              "\n",
              "    .dataframe thead th {\n",
              "        text-align: right;\n",
              "    }\n",
              "</style>\n",
              "<table border=\"1\" class=\"dataframe\">\n",
              "  <thead>\n",
              "    <tr style=\"text-align: right;\">\n",
              "      <th></th>\n",
              "      <th>pk</th>\n",
              "      <th>date</th>\n",
              "      <th>time</th>\n",
              "      <th>country</th>\n",
              "      <th>indicator</th>\n",
              "      <th>priority</th>\n",
              "      <th>explained</th>\n",
              "      <th>expectation</th>\n",
              "      <th>previous</th>\n",
              "    </tr>\n",
              "  </thead>\n",
              "  <tbody>\n",
              "    <tr>\n",
              "      <th>0</th>\n",
              "      <td>1</td>\n",
              "      <td>2021-04-26</td>\n",
              "      <td>23:00</td>\n",
              "      <td>ABD</td>\n",
              "      <td>AISI Çelik Üretimi(Ton)</td>\n",
              "      <td>1</td>\n",
              "      <td>NaN</td>\n",
              "      <td>NaN</td>\n",
              "      <td>1,770MLN</td>\n",
              "    </tr>\n",
              "    <tr>\n",
              "      <th>1</th>\n",
              "      <td>2</td>\n",
              "      <td>2021-04-26</td>\n",
              "      <td>23:00</td>\n",
              "      <td>ABD</td>\n",
              "      <td>AISI Çelik Üretimi(Haftalık)</td>\n",
              "      <td>1</td>\n",
              "      <td>NaN</td>\n",
              "      <td>NaN</td>\n",
              "      <td>%0,5</td>\n",
              "    </tr>\n",
              "    <tr>\n",
              "      <th>2</th>\n",
              "      <td>3</td>\n",
              "      <td>2021-04-26</td>\n",
              "      <td>23:00</td>\n",
              "      <td>ABD</td>\n",
              "      <td>AISI Çelik Üretimi(Yıllık)</td>\n",
              "      <td>1</td>\n",
              "      <td>NaN</td>\n",
              "      <td>NaN</td>\n",
              "      <td>%42,7</td>\n",
              "    </tr>\n",
              "    <tr>\n",
              "      <th>3</th>\n",
              "      <td>4</td>\n",
              "      <td>2021-04-26</td>\n",
              "      <td>23:00</td>\n",
              "      <td>ABD</td>\n",
              "      <td>AISI Çelik Üretimi Kapasite Kullanımı</td>\n",
              "      <td>1</td>\n",
              "      <td>NaN</td>\n",
              "      <td>NaN</td>\n",
              "      <td>%78,0</td>\n",
              "    </tr>\n",
              "    <tr>\n",
              "      <th>4</th>\n",
              "      <td>5</td>\n",
              "      <td>2021-04-26</td>\n",
              "      <td>23:00</td>\n",
              "      <td>ABD</td>\n",
              "      <td>Perakende Benzin Fiyatları($/Galon)</td>\n",
              "      <td>1</td>\n",
              "      <td>NaN</td>\n",
              "      <td>NaN</td>\n",
              "      <td>2.855</td>\n",
              "    </tr>\n",
              "  </tbody>\n",
              "</table>\n",
              "</div>"
            ],
            "text/plain": [
              "   pk        date   time country  ... priority  explained expectation  previous\n",
              "0   1  2021-04-26  23:00     ABD  ...        1        NaN         NaN  1,770MLN\n",
              "1   2  2021-04-26  23:00     ABD  ...        1        NaN         NaN      %0,5\n",
              "2   3  2021-04-26  23:00     ABD  ...        1        NaN         NaN     %42,7\n",
              "3   4  2021-04-26  23:00     ABD  ...        1        NaN         NaN     %78,0\n",
              "4   5  2021-04-26  23:00     ABD  ...        1        NaN         NaN     2.855\n",
              "\n",
              "[5 rows x 9 columns]"
            ]
          },
          "metadata": {},
          "execution_count": 54
        }
      ]
    },
    {
      "cell_type": "code",
      "metadata": {
        "colab": {
          "base_uri": "https://localhost:8080/",
          "height": 206
        },
        "id": "NPSj2jDW9rYv",
        "outputId": "8be9813c-2d82-463f-9b7a-e4f4c73a1ab7"
      },
      "source": [
        "economic_cal = economic_cal[[\"date\",\"priority\"]]\n",
        "economic_cal['date'] = pd.to_datetime(economic_cal['date'], format='%Y-%m-%d')\n",
        "economic_cal.head()"
      ],
      "execution_count": 61,
      "outputs": [
        {
          "output_type": "execute_result",
          "data": {
            "text/html": [
              "<div>\n",
              "<style scoped>\n",
              "    .dataframe tbody tr th:only-of-type {\n",
              "        vertical-align: middle;\n",
              "    }\n",
              "\n",
              "    .dataframe tbody tr th {\n",
              "        vertical-align: top;\n",
              "    }\n",
              "\n",
              "    .dataframe thead th {\n",
              "        text-align: right;\n",
              "    }\n",
              "</style>\n",
              "<table border=\"1\" class=\"dataframe\">\n",
              "  <thead>\n",
              "    <tr style=\"text-align: right;\">\n",
              "      <th></th>\n",
              "      <th>date</th>\n",
              "      <th>priority</th>\n",
              "    </tr>\n",
              "  </thead>\n",
              "  <tbody>\n",
              "    <tr>\n",
              "      <th>0</th>\n",
              "      <td>2021-04-26</td>\n",
              "      <td>1</td>\n",
              "    </tr>\n",
              "    <tr>\n",
              "      <th>1</th>\n",
              "      <td>2021-04-26</td>\n",
              "      <td>1</td>\n",
              "    </tr>\n",
              "    <tr>\n",
              "      <th>2</th>\n",
              "      <td>2021-04-26</td>\n",
              "      <td>1</td>\n",
              "    </tr>\n",
              "    <tr>\n",
              "      <th>3</th>\n",
              "      <td>2021-04-26</td>\n",
              "      <td>1</td>\n",
              "    </tr>\n",
              "    <tr>\n",
              "      <th>4</th>\n",
              "      <td>2021-04-26</td>\n",
              "      <td>1</td>\n",
              "    </tr>\n",
              "  </tbody>\n",
              "</table>\n",
              "</div>"
            ],
            "text/plain": [
              "        date  priority\n",
              "0 2021-04-26         1\n",
              "1 2021-04-26         1\n",
              "2 2021-04-26         1\n",
              "3 2021-04-26         1\n",
              "4 2021-04-26         1"
            ]
          },
          "metadata": {},
          "execution_count": 61
        }
      ]
    },
    {
      "cell_type": "code",
      "metadata": {
        "id": "AiZIrHn9959U"
      },
      "source": [
        "economic_cal_sum = economic_cal.groupby(\"date\",as_index=False).sum()\n",
        "economic_cal_mean = economic_cal.groupby(\"date\",as_index=False).mean()\n",
        "\n"
      ],
      "execution_count": 62,
      "outputs": []
    },
    {
      "cell_type": "code",
      "metadata": {
        "colab": {
          "base_uri": "https://localhost:8080/",
          "height": 206
        },
        "id": "MTXjK8Jr-Iow",
        "outputId": "5e644d67-6615-4646-8697-cb2819b729e1"
      },
      "source": [
        "mergedf2 = economic_cal_sum.merge(economic_cal_mean, how='inner', on='date')\n",
        "mergedf2 = mergedf2.merge(transactions_for_economic, how='inner', on='date')\n",
        "mergedf2 = mergedf2.rename(columns={\"priority_x\":\"sum\",\"priority_y\":\"mean\"})\n",
        "mergedf2.head()"
      ],
      "execution_count": 68,
      "outputs": [
        {
          "output_type": "execute_result",
          "data": {
            "text/html": [
              "<div>\n",
              "<style scoped>\n",
              "    .dataframe tbody tr th:only-of-type {\n",
              "        vertical-align: middle;\n",
              "    }\n",
              "\n",
              "    .dataframe tbody tr th {\n",
              "        vertical-align: top;\n",
              "    }\n",
              "\n",
              "    .dataframe thead th {\n",
              "        text-align: right;\n",
              "    }\n",
              "</style>\n",
              "<table border=\"1\" class=\"dataframe\">\n",
              "  <thead>\n",
              "    <tr style=\"text-align: right;\">\n",
              "      <th></th>\n",
              "      <th>date</th>\n",
              "      <th>sum</th>\n",
              "      <th>mean</th>\n",
              "      <th>ga_itemquantity</th>\n",
              "    </tr>\n",
              "  </thead>\n",
              "  <tbody>\n",
              "    <tr>\n",
              "      <th>0</th>\n",
              "      <td>2021-04-26</td>\n",
              "      <td>258</td>\n",
              "      <td>1.767123</td>\n",
              "      <td>61005</td>\n",
              "    </tr>\n",
              "    <tr>\n",
              "      <th>1</th>\n",
              "      <td>2021-04-28</td>\n",
              "      <td>547</td>\n",
              "      <td>1.860544</td>\n",
              "      <td>49892</td>\n",
              "    </tr>\n",
              "    <tr>\n",
              "      <th>2</th>\n",
              "      <td>2021-04-29</td>\n",
              "      <td>559</td>\n",
              "      <td>2.047619</td>\n",
              "      <td>36850</td>\n",
              "    </tr>\n",
              "    <tr>\n",
              "      <th>3</th>\n",
              "      <td>2021-04-30</td>\n",
              "      <td>807</td>\n",
              "      <td>2.079897</td>\n",
              "      <td>46782</td>\n",
              "    </tr>\n",
              "    <tr>\n",
              "      <th>4</th>\n",
              "      <td>2021-05-03</td>\n",
              "      <td>313</td>\n",
              "      <td>2.100671</td>\n",
              "      <td>63195</td>\n",
              "    </tr>\n",
              "  </tbody>\n",
              "</table>\n",
              "</div>"
            ],
            "text/plain": [
              "        date  sum      mean  ga_itemquantity\n",
              "0 2021-04-26  258  1.767123            61005\n",
              "1 2021-04-28  547  1.860544            49892\n",
              "2 2021-04-29  559  2.047619            36850\n",
              "3 2021-04-30  807  2.079897            46782\n",
              "4 2021-05-03  313  2.100671            63195"
            ]
          },
          "metadata": {},
          "execution_count": 68
        }
      ]
    },
    {
      "cell_type": "markdown",
      "metadata": {
        "id": "v1V9kJgQBLmH"
      },
      "source": [
        "**Corelation For Events**\n",
        "\n",
        "Results show that sum of events more important than mean priority for that day. "
      ]
    },
    {
      "cell_type": "code",
      "metadata": {
        "colab": {
          "base_uri": "https://localhost:8080/",
          "height": 143
        },
        "id": "kI9RkFSo_Y4_",
        "outputId": "d3aa7af8-7d3e-4aeb-d13d-9946bde6081a"
      },
      "source": [
        "mergedf2.corr()"
      ],
      "execution_count": 72,
      "outputs": [
        {
          "output_type": "execute_result",
          "data": {
            "text/html": [
              "<div>\n",
              "<style scoped>\n",
              "    .dataframe tbody tr th:only-of-type {\n",
              "        vertical-align: middle;\n",
              "    }\n",
              "\n",
              "    .dataframe tbody tr th {\n",
              "        vertical-align: top;\n",
              "    }\n",
              "\n",
              "    .dataframe thead th {\n",
              "        text-align: right;\n",
              "    }\n",
              "</style>\n",
              "<table border=\"1\" class=\"dataframe\">\n",
              "  <thead>\n",
              "    <tr style=\"text-align: right;\">\n",
              "      <th></th>\n",
              "      <th>sum</th>\n",
              "      <th>mean</th>\n",
              "      <th>ga_itemquantity</th>\n",
              "    </tr>\n",
              "  </thead>\n",
              "  <tbody>\n",
              "    <tr>\n",
              "      <th>sum</th>\n",
              "      <td>1.000000</td>\n",
              "      <td>0.203452</td>\n",
              "      <td>0.269961</td>\n",
              "    </tr>\n",
              "    <tr>\n",
              "      <th>mean</th>\n",
              "      <td>0.203452</td>\n",
              "      <td>1.000000</td>\n",
              "      <td>0.022960</td>\n",
              "    </tr>\n",
              "    <tr>\n",
              "      <th>ga_itemquantity</th>\n",
              "      <td>0.269961</td>\n",
              "      <td>0.022960</td>\n",
              "      <td>1.000000</td>\n",
              "    </tr>\n",
              "  </tbody>\n",
              "</table>\n",
              "</div>"
            ],
            "text/plain": [
              "                      sum      mean  ga_itemquantity\n",
              "sum              1.000000  0.203452         0.269961\n",
              "mean             0.203452  1.000000         0.022960\n",
              "ga_itemquantity  0.269961  0.022960         1.000000"
            ]
          },
          "metadata": {},
          "execution_count": 72
        }
      ]
    },
    {
      "cell_type": "code",
      "metadata": {
        "colab": {
          "base_uri": "https://localhost:8080/",
          "height": 287
        },
        "id": "SMvpYItUAdSQ",
        "outputId": "45749a1b-14d1-461b-a14c-af3bdf3b67ca"
      },
      "source": [
        "sns.heatmap(mergedf2.corr(), \n",
        "        xticklabels=mergedf2.columns[1:],\n",
        "        yticklabels=mergedf2.columns[1:])"
      ],
      "execution_count": 73,
      "outputs": [
        {
          "output_type": "execute_result",
          "data": {
            "text/plain": [
              "<matplotlib.axes._subplots.AxesSubplot at 0x7fb02e935e50>"
            ]
          },
          "metadata": {},
          "execution_count": 73
        },
        {
          "output_type": "display_data",
          "data": {
            "image/png": "[encoded data removed]",
            "text/plain": [
              "<Figure size 432x288 with 2 Axes>"
            ]
          },
          "metadata": {
            "needs_background": "light"
          }
        }
      ]
    }
  ]
}